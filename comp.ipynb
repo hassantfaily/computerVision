{
 "cells": [
  {
   "cell_type": "markdown",
   "metadata": {},
   "source": [
    "loading data set using PyTorch"
   ]
  },
  {
   "cell_type": "code",
   "execution_count": null,
   "metadata": {},
   "outputs": [],
   "source": [
    "import os\n",
    "import json\n",
    "import matplotlib.pyplot as plt\n",
    "import cv2\n",
    "import numpy as np\n",
    "from torch.utils.data import Dataset, DataLoader\n",
    "\n",
    "class ImageLabelDataset(Dataset):\n",
    "    def __init__(self, root_dir, data_types):\n",
    "        self.data = {}\n",
    "        for data_type in data_types:\n",
    "            data_path = os.path.join(root_dir, data_type)\n",
    "            image_folder_path = os.path.join(data_path, \"images\")\n",
    "            label_folder_path = os.path.join(data_path, \"labels\", \"json\")\n",
    "            images = []\n",
    "            labels = []\n",
    "            for image_file in os.listdir(image_folder_path):\n",
    "                image_path = os.path.join(image_folder_path, image_file)\n",
    "                json_file = image_file.split('.')[0] + '.json'\n",
    "                label_path = os.path.join(label_folder_path, json_file)\n",
    "                if os.path.exists(label_path):\n",
    "                    images.append(image_path)\n",
    "                    labels.append(label_path)\n",
    "            self.data[data_type] = {\"images\": images, \"labels\": labels}\n",
    "\n",
    "    def __len__(self):\n",
    "        total_images = 0\n",
    "        for data_type in self.data:\n",
    "            total_images += len(self.data[data_type][\"images\"])\n",
    "        return total_images\n",
    "\n",
    "    def __getitem__(self, idx):\n",
    "     data_type = None\n",
    "     image_idx = None\n",
    "     for dt, data in self.data.items():\n",
    "        if idx < len(data['images']):\n",
    "            data_type = dt\n",
    "            image_idx = idx\n",
    "            break\n",
    "        else:\n",
    "            idx -= len(data['images'])\n",
    "     if data_type is not None and image_idx is not None:\n",
    "        image_path = self.data[data_type][\"images\"][image_idx]\n",
    "        label_path = self.data[data_type][\"labels\"][image_idx]\n",
    "        return image_path, label_path\n",
    "     else:\n",
    "        raise IndexError(\"Index out of range.\")\n"
   ]
  },
  {
   "cell_type": "markdown",
   "metadata": {},
   "source": [
    "2-visualizing some of the labeled images"
   ]
  },
  {
   "cell_type": "code",
   "execution_count": null,
   "metadata": {},
   "outputs": [],
   "source": [
    "def visualize_images(data_loader, num_batches):\n",
    "    colors = {\"bin\": (255, 0, 0), \"dolly\": (0, 255, 0), \"jack\": (0, 0, 255)}\n",
    "    \n",
    "    for batch_idx, batch in enumerate(data_loader):\n",
    "        if batch_idx >= num_batches:\n",
    "            break\n",
    "        \n",
    "        images, labels = batch\n",
    "        for image_path, label_path in zip(images, labels):\n",
    "            image_cv2 = cv2.imread(image_path)\n",
    "            image_cv2 = cv2.cvtColor(image_cv2, cv2.COLOR_BGR2RGB)\n",
    "            plt.figure(figsize=(8, 6))\n",
    "            plt.imshow(image_cv2)\n",
    "\n",
    "            with open(label_path, 'r') as f:\n",
    "                labels = json.load(f)\n",
    "\n",
    "            for bbox in labels:\n",
    "                left = bbox[\"Left\"]\n",
    "                top = bbox[\"Top\"]\n",
    "                right = bbox[\"Right\"]\n",
    "                bottom = bbox[\"Bottom\"]\n",
    "                class_name = bbox[\"ObjectClassName\"]\n",
    "                color = colors.get(class_name, (0, 0, 0))\n",
    "            \n",
    "\n",
    "                cv2.rectangle(image_cv2, (left, top), (right, bottom), color, 2)\n",
    "                cv2.putText(image_cv2, class_name, (left, top - 5), cv2.FONT_HERSHEY_SIMPLEX, 1.2, color, 4)\n",
    "\n",
    "            plt.imshow(image_cv2)\n",
    "            plt.title(image_path)\n",
    "            plt.show()\n",
    "\n",
    "root_dir = \"data\"\n",
    "dataset_train = ImageLabelDataset(root_dir, [\"Training\"])\n",
    "dataset_test = ImageLabelDataset(root_dir, [\"Testing\"])\n",
    "batch_size = 2\n",
    "\n",
    "train_loader = DataLoader(dataset_train, batch_size=batch_size, shuffle=True)\n",
    "test_loader = DataLoader(dataset_test, batch_size=batch_size, shuffle=False)\n",
    "\n",
    "num_batches_to_visualize = 1\n",
    "print(\"Visualizing training images:\")\n",
    "visualize_images(train_loader, num_batches_to_visualize)\n",
    "\n",
    "print(\"Visualizing testing images:\")\n",
    "visualize_images(test_loader, num_batches_to_visualize)"
   ]
  }
 ],
 "metadata": {
  "kernelspec": {
   "display_name": "Python 3",
   "language": "python",
   "name": "python3"
  },
  "language_info": {
   "codemirror_mode": {
    "name": "ipython",
    "version": 3
   },
   "file_extension": ".py",
   "mimetype": "text/x-python",
   "name": "python",
   "nbconvert_exporter": "python",
   "pygments_lexer": "ipython3",
   "version": "3.11.8"
  }
 },
 "nbformat": 4,
 "nbformat_minor": 2
}
